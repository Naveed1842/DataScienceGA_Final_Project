{
 "cells": [
  {
   "cell_type": "code",
   "execution_count": 1,
   "metadata": {
    "collapsed": true
   },
   "outputs": [],
   "source": [
    "import numpy as np\n",
    "import pandas as pd\n",
    "from datetime import datetime\n",
    "from sklearn import cross_validation"
   ]
  },
  {
   "cell_type": "code",
   "execution_count": 2,
   "metadata": {
    "collapsed": false
   },
   "outputs": [],
   "source": [
    "df = pd.read_csv(\"yellow_tripdata_2015-01-1p.csv\")"
   ]
  },
  {
   "cell_type": "code",
   "execution_count": 3,
   "metadata": {
    "collapsed": false
   },
   "outputs": [
    {
     "data": {
      "text/html": [
       "<div>\n",
       "<table border=\"1\" class=\"dataframe\">\n",
       "  <thead>\n",
       "    <tr style=\"text-align: right;\">\n",
       "      <th></th>\n",
       "      <th>VendorID</th>\n",
       "      <th>tpep_pickup_datetime</th>\n",
       "      <th>tpep_dropoff_datetime</th>\n",
       "      <th>passenger_count</th>\n",
       "      <th>trip_distance</th>\n",
       "      <th>pickup_longitude</th>\n",
       "      <th>pickup_latitude</th>\n",
       "      <th>RateCodeID</th>\n",
       "      <th>store_and_fwd_flag</th>\n",
       "      <th>dropoff_longitude</th>\n",
       "      <th>dropoff_latitude</th>\n",
       "      <th>payment_type</th>\n",
       "      <th>fare_amount</th>\n",
       "      <th>extra</th>\n",
       "      <th>mta_tax</th>\n",
       "      <th>tip_amount</th>\n",
       "      <th>tolls_amount</th>\n",
       "      <th>improvement_surcharge</th>\n",
       "      <th>total_amount</th>\n",
       "    </tr>\n",
       "  </thead>\n",
       "  <tbody>\n",
       "    <tr>\n",
       "      <th>0</th>\n",
       "      <td>1</td>\n",
       "      <td>2015-01-29 09:00:36</td>\n",
       "      <td>2015-01-29 09:20:41</td>\n",
       "      <td>1</td>\n",
       "      <td>1.90</td>\n",
       "      <td>-74.005905</td>\n",
       "      <td>40.735645</td>\n",
       "      <td>1</td>\n",
       "      <td>N</td>\n",
       "      <td>-73.982353</td>\n",
       "      <td>40.749092</td>\n",
       "      <td>1</td>\n",
       "      <td>13.5</td>\n",
       "      <td>0.0</td>\n",
       "      <td>0.5</td>\n",
       "      <td>1.70</td>\n",
       "      <td>0.00</td>\n",
       "      <td>0.3</td>\n",
       "      <td>16.00</td>\n",
       "    </tr>\n",
       "    <tr>\n",
       "      <th>1</th>\n",
       "      <td>1</td>\n",
       "      <td>2015-01-16 21:59:15</td>\n",
       "      <td>2015-01-16 22:09:05</td>\n",
       "      <td>1</td>\n",
       "      <td>1.30</td>\n",
       "      <td>-73.988808</td>\n",
       "      <td>40.721855</td>\n",
       "      <td>1</td>\n",
       "      <td>N</td>\n",
       "      <td>-73.990845</td>\n",
       "      <td>40.734997</td>\n",
       "      <td>1</td>\n",
       "      <td>8.0</td>\n",
       "      <td>0.5</td>\n",
       "      <td>0.5</td>\n",
       "      <td>1.85</td>\n",
       "      <td>0.00</td>\n",
       "      <td>0.3</td>\n",
       "      <td>11.15</td>\n",
       "    </tr>\n",
       "    <tr>\n",
       "      <th>2</th>\n",
       "      <td>2</td>\n",
       "      <td>2015-01-09 19:29:35</td>\n",
       "      <td>2015-01-09 19:35:18</td>\n",
       "      <td>1</td>\n",
       "      <td>0.35</td>\n",
       "      <td>-73.980316</td>\n",
       "      <td>40.742496</td>\n",
       "      <td>1</td>\n",
       "      <td>N</td>\n",
       "      <td>-73.985909</td>\n",
       "      <td>40.745132</td>\n",
       "      <td>2</td>\n",
       "      <td>5.0</td>\n",
       "      <td>1.0</td>\n",
       "      <td>0.5</td>\n",
       "      <td>0.00</td>\n",
       "      <td>0.00</td>\n",
       "      <td>0.3</td>\n",
       "      <td>6.80</td>\n",
       "    </tr>\n",
       "    <tr>\n",
       "      <th>3</th>\n",
       "      <td>1</td>\n",
       "      <td>2015-01-28 14:28:17</td>\n",
       "      <td>2015-01-28 14:48:55</td>\n",
       "      <td>2</td>\n",
       "      <td>7.90</td>\n",
       "      <td>-73.873108</td>\n",
       "      <td>40.774086</td>\n",
       "      <td>1</td>\n",
       "      <td>N</td>\n",
       "      <td>-73.954384</td>\n",
       "      <td>40.781269</td>\n",
       "      <td>1</td>\n",
       "      <td>24.0</td>\n",
       "      <td>0.0</td>\n",
       "      <td>0.5</td>\n",
       "      <td>0.00</td>\n",
       "      <td>5.33</td>\n",
       "      <td>0.3</td>\n",
       "      <td>30.13</td>\n",
       "    </tr>\n",
       "    <tr>\n",
       "      <th>4</th>\n",
       "      <td>2</td>\n",
       "      <td>2015-01-22 07:08:12</td>\n",
       "      <td>2015-01-22 07:14:48</td>\n",
       "      <td>1</td>\n",
       "      <td>1.29</td>\n",
       "      <td>-73.961906</td>\n",
       "      <td>40.763901</td>\n",
       "      <td>1</td>\n",
       "      <td>N</td>\n",
       "      <td>-73.975761</td>\n",
       "      <td>40.753979</td>\n",
       "      <td>1</td>\n",
       "      <td>6.5</td>\n",
       "      <td>0.0</td>\n",
       "      <td>0.5</td>\n",
       "      <td>1.46</td>\n",
       "      <td>0.00</td>\n",
       "      <td>0.3</td>\n",
       "      <td>8.76</td>\n",
       "    </tr>\n",
       "  </tbody>\n",
       "</table>\n",
       "</div>"
      ],
      "text/plain": [
       "   VendorID tpep_pickup_datetime tpep_dropoff_datetime  passenger_count  \\\n",
       "0         1  2015-01-29 09:00:36   2015-01-29 09:20:41                1   \n",
       "1         1  2015-01-16 21:59:15   2015-01-16 22:09:05                1   \n",
       "2         2  2015-01-09 19:29:35   2015-01-09 19:35:18                1   \n",
       "3         1  2015-01-28 14:28:17   2015-01-28 14:48:55                2   \n",
       "4         2  2015-01-22 07:08:12   2015-01-22 07:14:48                1   \n",
       "\n",
       "   trip_distance  pickup_longitude  pickup_latitude  RateCodeID  \\\n",
       "0           1.90        -74.005905        40.735645           1   \n",
       "1           1.30        -73.988808        40.721855           1   \n",
       "2           0.35        -73.980316        40.742496           1   \n",
       "3           7.90        -73.873108        40.774086           1   \n",
       "4           1.29        -73.961906        40.763901           1   \n",
       "\n",
       "  store_and_fwd_flag  dropoff_longitude  dropoff_latitude  payment_type  \\\n",
       "0                  N         -73.982353         40.749092             1   \n",
       "1                  N         -73.990845         40.734997             1   \n",
       "2                  N         -73.985909         40.745132             2   \n",
       "3                  N         -73.954384         40.781269             1   \n",
       "4                  N         -73.975761         40.753979             1   \n",
       "\n",
       "   fare_amount  extra  mta_tax  tip_amount  tolls_amount  \\\n",
       "0         13.5    0.0      0.5        1.70          0.00   \n",
       "1          8.0    0.5      0.5        1.85          0.00   \n",
       "2          5.0    1.0      0.5        0.00          0.00   \n",
       "3         24.0    0.0      0.5        0.00          5.33   \n",
       "4          6.5    0.0      0.5        1.46          0.00   \n",
       "\n",
       "   improvement_surcharge  total_amount  \n",
       "0                    0.3         16.00  \n",
       "1                    0.3         11.15  \n",
       "2                    0.3          6.80  \n",
       "3                    0.3         30.13  \n",
       "4                    0.3          8.76  "
      ]
     },
     "execution_count": 3,
     "metadata": {},
     "output_type": "execute_result"
    }
   ],
   "source": [
    "df.head()"
   ]
  },
  {
   "cell_type": "code",
   "execution_count": 4,
   "metadata": {
    "collapsed": false
   },
   "outputs": [
    {
     "data": {
      "text/plain": [
       "127490"
      ]
     },
     "execution_count": 4,
     "metadata": {},
     "output_type": "execute_result"
    }
   ],
   "source": [
    "len(df)"
   ]
  },
  {
   "cell_type": "code",
   "execution_count": 5,
   "metadata": {
    "collapsed": false
   },
   "outputs": [
    {
     "name": "stdout",
     "output_type": "stream",
     "text": [
      "VendorID                   int64\n",
      "tpep_pickup_datetime      object\n",
      "tpep_dropoff_datetime     object\n",
      "passenger_count            int64\n",
      "trip_distance            float64\n",
      "pickup_longitude         float64\n",
      "pickup_latitude          float64\n",
      "RateCodeID                 int64\n",
      "store_and_fwd_flag        object\n",
      "dropoff_longitude        float64\n",
      "dropoff_latitude         float64\n",
      "payment_type               int64\n",
      "fare_amount              float64\n",
      "extra                    float64\n",
      "mta_tax                  float64\n",
      "tip_amount               float64\n",
      "tolls_amount             float64\n",
      "improvement_surcharge    float64\n",
      "total_amount             float64\n",
      "dtype: object\n"
     ]
    }
   ],
   "source": [
    "print df.dtypes"
   ]
  },
  {
   "cell_type": "code",
   "execution_count": null,
   "metadata": {
    "collapsed": true
   },
   "outputs": [],
   "source": []
  },
  {
   "cell_type": "code",
   "execution_count": null,
   "metadata": {
    "collapsed": false
   },
   "outputs": [],
   "source": []
  },
  {
   "cell_type": "code",
   "execution_count": null,
   "metadata": {
    "collapsed": false
   },
   "outputs": [],
   "source": []
  },
  {
   "cell_type": "code",
   "execution_count": 6,
   "metadata": {
    "collapsed": false
   },
   "outputs": [
    {
     "data": {
      "text/plain": [
       "datetime.datetime(2015, 1, 15, 19, 5, 39)"
      ]
     },
     "execution_count": 6,
     "metadata": {},
     "output_type": "execute_result"
    }
   ],
   "source": [
    "date_object = datetime.strptime('2015-01-15 19:05:39', '%Y-%m-%d %H:%M:%S')\n",
    "date_object"
   ]
  },
  {
   "cell_type": "code",
   "execution_count": 7,
   "metadata": {
    "collapsed": false
   },
   "outputs": [],
   "source": [
    "def get_dt(x):\n",
    "    return datetime.strptime(x, '%Y-%m-%d %H:%M:%S')\n",
    "\n",
    "df['tpep_pickup_datetime'] = df.apply(lambda x: get_dt(x[1]), axis=1)\n",
    "df['tpep_dropoff_datetime'] = df.apply(lambda x: get_dt(x[2]), axis=1)\n",
    "\n",
    "df['tpep_pickup_dayofweek'] = df['tpep_pickup_datetime'].dt.dayofweek\n",
    "#df['tpep_dropoff_dayofweek'] = df['tpep_dropoff_datetime'].dt.dayofweek\n",
    "\n",
    "df['tpep_pickup_time'] = df['tpep_pickup_datetime'].dt.time\n",
    "#df['tpep_dropoff_time'] = df['tpep_dropoff_datetime'].dt.time\n",
    "\n",
    "df = df.drop(['store_and_fwd_flag', 'tpep_pickup_datetime', 'tpep_dropoff_datetime'], axis=1)"
   ]
  },
  {
   "cell_type": "code",
   "execution_count": null,
   "metadata": {
    "collapsed": false
   },
   "outputs": [],
   "source": []
  },
  {
   "cell_type": "code",
   "execution_count": 8,
   "metadata": {
    "collapsed": false
   },
   "outputs": [
    {
     "data": {
      "text/plain": [
       "VendorID                   int64\n",
       "passenger_count            int64\n",
       "trip_distance            float64\n",
       "pickup_longitude         float64\n",
       "pickup_latitude          float64\n",
       "RateCodeID                 int64\n",
       "dropoff_longitude        float64\n",
       "dropoff_latitude         float64\n",
       "payment_type               int64\n",
       "fare_amount              float64\n",
       "extra                    float64\n",
       "mta_tax                  float64\n",
       "tip_amount               float64\n",
       "tolls_amount             float64\n",
       "improvement_surcharge    float64\n",
       "total_amount             float64\n",
       "tpep_pickup_dayofweek      int64\n",
       "tpep_pickup_time          object\n",
       "dtype: object"
      ]
     },
     "execution_count": 8,
     "metadata": {},
     "output_type": "execute_result"
    }
   ],
   "source": [
    "df.dtypes"
   ]
  },
  {
   "cell_type": "code",
   "execution_count": null,
   "metadata": {
    "collapsed": false
   },
   "outputs": [],
   "source": []
  },
  {
   "cell_type": "code",
   "execution_count": 9,
   "metadata": {
    "collapsed": false
   },
   "outputs": [
    {
     "data": {
      "text/html": [
       "<div>\n",
       "<table border=\"1\" class=\"dataframe\">\n",
       "  <thead>\n",
       "    <tr style=\"text-align: right;\">\n",
       "      <th></th>\n",
       "      <th>VendorID</th>\n",
       "      <th>passenger_count</th>\n",
       "      <th>trip_distance</th>\n",
       "      <th>pickup_longitude</th>\n",
       "      <th>pickup_latitude</th>\n",
       "      <th>RateCodeID</th>\n",
       "      <th>dropoff_longitude</th>\n",
       "      <th>dropoff_latitude</th>\n",
       "      <th>payment_type</th>\n",
       "      <th>fare_amount</th>\n",
       "      <th>extra</th>\n",
       "      <th>mta_tax</th>\n",
       "      <th>tip_amount</th>\n",
       "      <th>tolls_amount</th>\n",
       "      <th>improvement_surcharge</th>\n",
       "      <th>total_amount</th>\n",
       "      <th>tpep_pickup_dayofweek</th>\n",
       "      <th>tpep_pickup_time</th>\n",
       "    </tr>\n",
       "  </thead>\n",
       "  <tbody>\n",
       "    <tr>\n",
       "      <th>0</th>\n",
       "      <td>1</td>\n",
       "      <td>1</td>\n",
       "      <td>1.90</td>\n",
       "      <td>-74.005905</td>\n",
       "      <td>40.735645</td>\n",
       "      <td>1</td>\n",
       "      <td>-73.982353</td>\n",
       "      <td>40.749092</td>\n",
       "      <td>1</td>\n",
       "      <td>13.5</td>\n",
       "      <td>0.0</td>\n",
       "      <td>0.5</td>\n",
       "      <td>1.70</td>\n",
       "      <td>0.00</td>\n",
       "      <td>0.3</td>\n",
       "      <td>16.00</td>\n",
       "      <td>3</td>\n",
       "      <td>09:00:36</td>\n",
       "    </tr>\n",
       "    <tr>\n",
       "      <th>1</th>\n",
       "      <td>1</td>\n",
       "      <td>1</td>\n",
       "      <td>1.30</td>\n",
       "      <td>-73.988808</td>\n",
       "      <td>40.721855</td>\n",
       "      <td>1</td>\n",
       "      <td>-73.990845</td>\n",
       "      <td>40.734997</td>\n",
       "      <td>1</td>\n",
       "      <td>8.0</td>\n",
       "      <td>0.5</td>\n",
       "      <td>0.5</td>\n",
       "      <td>1.85</td>\n",
       "      <td>0.00</td>\n",
       "      <td>0.3</td>\n",
       "      <td>11.15</td>\n",
       "      <td>4</td>\n",
       "      <td>21:59:15</td>\n",
       "    </tr>\n",
       "    <tr>\n",
       "      <th>2</th>\n",
       "      <td>2</td>\n",
       "      <td>1</td>\n",
       "      <td>0.35</td>\n",
       "      <td>-73.980316</td>\n",
       "      <td>40.742496</td>\n",
       "      <td>1</td>\n",
       "      <td>-73.985909</td>\n",
       "      <td>40.745132</td>\n",
       "      <td>2</td>\n",
       "      <td>5.0</td>\n",
       "      <td>1.0</td>\n",
       "      <td>0.5</td>\n",
       "      <td>0.00</td>\n",
       "      <td>0.00</td>\n",
       "      <td>0.3</td>\n",
       "      <td>6.80</td>\n",
       "      <td>4</td>\n",
       "      <td>19:29:35</td>\n",
       "    </tr>\n",
       "    <tr>\n",
       "      <th>3</th>\n",
       "      <td>1</td>\n",
       "      <td>2</td>\n",
       "      <td>7.90</td>\n",
       "      <td>-73.873108</td>\n",
       "      <td>40.774086</td>\n",
       "      <td>1</td>\n",
       "      <td>-73.954384</td>\n",
       "      <td>40.781269</td>\n",
       "      <td>1</td>\n",
       "      <td>24.0</td>\n",
       "      <td>0.0</td>\n",
       "      <td>0.5</td>\n",
       "      <td>0.00</td>\n",
       "      <td>5.33</td>\n",
       "      <td>0.3</td>\n",
       "      <td>30.13</td>\n",
       "      <td>2</td>\n",
       "      <td>14:28:17</td>\n",
       "    </tr>\n",
       "    <tr>\n",
       "      <th>4</th>\n",
       "      <td>2</td>\n",
       "      <td>1</td>\n",
       "      <td>1.29</td>\n",
       "      <td>-73.961906</td>\n",
       "      <td>40.763901</td>\n",
       "      <td>1</td>\n",
       "      <td>-73.975761</td>\n",
       "      <td>40.753979</td>\n",
       "      <td>1</td>\n",
       "      <td>6.5</td>\n",
       "      <td>0.0</td>\n",
       "      <td>0.5</td>\n",
       "      <td>1.46</td>\n",
       "      <td>0.00</td>\n",
       "      <td>0.3</td>\n",
       "      <td>8.76</td>\n",
       "      <td>3</td>\n",
       "      <td>07:08:12</td>\n",
       "    </tr>\n",
       "    <tr>\n",
       "      <th>5</th>\n",
       "      <td>1</td>\n",
       "      <td>1</td>\n",
       "      <td>1.30</td>\n",
       "      <td>-73.959190</td>\n",
       "      <td>40.760860</td>\n",
       "      <td>1</td>\n",
       "      <td>-73.961464</td>\n",
       "      <td>40.770172</td>\n",
       "      <td>1</td>\n",
       "      <td>11.5</td>\n",
       "      <td>0.0</td>\n",
       "      <td>0.5</td>\n",
       "      <td>2.45</td>\n",
       "      <td>0.00</td>\n",
       "      <td>0.3</td>\n",
       "      <td>14.75</td>\n",
       "      <td>1</td>\n",
       "      <td>13:12:20</td>\n",
       "    </tr>\n",
       "    <tr>\n",
       "      <th>6</th>\n",
       "      <td>1</td>\n",
       "      <td>1</td>\n",
       "      <td>5.60</td>\n",
       "      <td>-73.870850</td>\n",
       "      <td>40.773743</td>\n",
       "      <td>1</td>\n",
       "      <td>-73.822807</td>\n",
       "      <td>40.727856</td>\n",
       "      <td>1</td>\n",
       "      <td>17.0</td>\n",
       "      <td>0.0</td>\n",
       "      <td>0.5</td>\n",
       "      <td>3.56</td>\n",
       "      <td>0.00</td>\n",
       "      <td>0.3</td>\n",
       "      <td>21.36</td>\n",
       "      <td>1</td>\n",
       "      <td>09:21:39</td>\n",
       "    </tr>\n",
       "    <tr>\n",
       "      <th>7</th>\n",
       "      <td>2</td>\n",
       "      <td>1</td>\n",
       "      <td>0.81</td>\n",
       "      <td>-73.952324</td>\n",
       "      <td>40.772816</td>\n",
       "      <td>1</td>\n",
       "      <td>-73.962959</td>\n",
       "      <td>40.775036</td>\n",
       "      <td>1</td>\n",
       "      <td>6.0</td>\n",
       "      <td>0.0</td>\n",
       "      <td>0.5</td>\n",
       "      <td>0.00</td>\n",
       "      <td>0.00</td>\n",
       "      <td>0.3</td>\n",
       "      <td>6.80</td>\n",
       "      <td>3</td>\n",
       "      <td>14:37:12</td>\n",
       "    </tr>\n",
       "    <tr>\n",
       "      <th>8</th>\n",
       "      <td>2</td>\n",
       "      <td>1</td>\n",
       "      <td>2.58</td>\n",
       "      <td>-73.998596</td>\n",
       "      <td>40.760700</td>\n",
       "      <td>1</td>\n",
       "      <td>-73.962769</td>\n",
       "      <td>40.758251</td>\n",
       "      <td>2</td>\n",
       "      <td>14.0</td>\n",
       "      <td>0.0</td>\n",
       "      <td>0.5</td>\n",
       "      <td>0.00</td>\n",
       "      <td>0.00</td>\n",
       "      <td>0.3</td>\n",
       "      <td>14.80</td>\n",
       "      <td>5</td>\n",
       "      <td>12:02:10</td>\n",
       "    </tr>\n",
       "    <tr>\n",
       "      <th>9</th>\n",
       "      <td>2</td>\n",
       "      <td>5</td>\n",
       "      <td>0.54</td>\n",
       "      <td>-73.963844</td>\n",
       "      <td>40.766808</td>\n",
       "      <td>1</td>\n",
       "      <td>-73.967735</td>\n",
       "      <td>40.762783</td>\n",
       "      <td>1</td>\n",
       "      <td>4.5</td>\n",
       "      <td>0.0</td>\n",
       "      <td>0.5</td>\n",
       "      <td>0.90</td>\n",
       "      <td>0.00</td>\n",
       "      <td>0.3</td>\n",
       "      <td>6.20</td>\n",
       "      <td>5</td>\n",
       "      <td>13:25:36</td>\n",
       "    </tr>\n",
       "  </tbody>\n",
       "</table>\n",
       "</div>"
      ],
      "text/plain": [
       "   VendorID  passenger_count  trip_distance  pickup_longitude  \\\n",
       "0         1                1           1.90        -74.005905   \n",
       "1         1                1           1.30        -73.988808   \n",
       "2         2                1           0.35        -73.980316   \n",
       "3         1                2           7.90        -73.873108   \n",
       "4         2                1           1.29        -73.961906   \n",
       "5         1                1           1.30        -73.959190   \n",
       "6         1                1           5.60        -73.870850   \n",
       "7         2                1           0.81        -73.952324   \n",
       "8         2                1           2.58        -73.998596   \n",
       "9         2                5           0.54        -73.963844   \n",
       "\n",
       "   pickup_latitude  RateCodeID  dropoff_longitude  dropoff_latitude  \\\n",
       "0        40.735645           1         -73.982353         40.749092   \n",
       "1        40.721855           1         -73.990845         40.734997   \n",
       "2        40.742496           1         -73.985909         40.745132   \n",
       "3        40.774086           1         -73.954384         40.781269   \n",
       "4        40.763901           1         -73.975761         40.753979   \n",
       "5        40.760860           1         -73.961464         40.770172   \n",
       "6        40.773743           1         -73.822807         40.727856   \n",
       "7        40.772816           1         -73.962959         40.775036   \n",
       "8        40.760700           1         -73.962769         40.758251   \n",
       "9        40.766808           1         -73.967735         40.762783   \n",
       "\n",
       "   payment_type  fare_amount  extra  mta_tax  tip_amount  tolls_amount  \\\n",
       "0             1         13.5    0.0      0.5        1.70          0.00   \n",
       "1             1          8.0    0.5      0.5        1.85          0.00   \n",
       "2             2          5.0    1.0      0.5        0.00          0.00   \n",
       "3             1         24.0    0.0      0.5        0.00          5.33   \n",
       "4             1          6.5    0.0      0.5        1.46          0.00   \n",
       "5             1         11.5    0.0      0.5        2.45          0.00   \n",
       "6             1         17.0    0.0      0.5        3.56          0.00   \n",
       "7             1          6.0    0.0      0.5        0.00          0.00   \n",
       "8             2         14.0    0.0      0.5        0.00          0.00   \n",
       "9             1          4.5    0.0      0.5        0.90          0.00   \n",
       "\n",
       "   improvement_surcharge  total_amount  tpep_pickup_dayofweek tpep_pickup_time  \n",
       "0                    0.3         16.00                      3         09:00:36  \n",
       "1                    0.3         11.15                      4         21:59:15  \n",
       "2                    0.3          6.80                      4         19:29:35  \n",
       "3                    0.3         30.13                      2         14:28:17  \n",
       "4                    0.3          8.76                      3         07:08:12  \n",
       "5                    0.3         14.75                      1         13:12:20  \n",
       "6                    0.3         21.36                      1         09:21:39  \n",
       "7                    0.3          6.80                      3         14:37:12  \n",
       "8                    0.3         14.80                      5         12:02:10  \n",
       "9                    0.3          6.20                      5         13:25:36  "
      ]
     },
     "execution_count": 9,
     "metadata": {},
     "output_type": "execute_result"
    }
   ],
   "source": [
    "df.head(10)"
   ]
  },
  {
   "cell_type": "code",
   "execution_count": null,
   "metadata": {
    "collapsed": false
   },
   "outputs": [],
   "source": []
  },
  {
   "cell_type": "code",
   "execution_count": null,
   "metadata": {
    "collapsed": true
   },
   "outputs": [],
   "source": []
  },
  {
   "cell_type": "code",
   "execution_count": null,
   "metadata": {
    "collapsed": true
   },
   "outputs": [],
   "source": []
  },
  {
   "cell_type": "code",
   "execution_count": null,
   "metadata": {
    "collapsed": false
   },
   "outputs": [],
   "source": [
    "# Set target variable name\n",
    "target = 'tpep_dropoff_datetime'\n",
    "\n",
    "# Set X and y\n",
    "X = df.drop([target], axis=1)\n",
    "y = df[target]\n",
    "\n",
    "\n",
    "# Create separate training and test sets with 60/40 train/test split\n",
    "X_train, X_test, y_train, y_test = cross_validation.train_test_split(X, y, test_size=0.4, random_state=0)\n",
    "\n",
    "\n",
    "# check size of training set\n",
    "print X_train.shape, y_train.shape\n",
    "\n",
    "# check size of test set\n",
    "print X_test.shape, y_test.shape"
   ]
  },
  {
   "cell_type": "code",
   "execution_count": null,
   "metadata": {
    "collapsed": false
   },
   "outputs": [],
   "source": [
    "X.head()"
   ]
  },
  {
   "cell_type": "code",
   "execution_count": null,
   "metadata": {
    "collapsed": false
   },
   "outputs": [],
   "source": [
    "y.head()"
   ]
  },
  {
   "cell_type": "code",
   "execution_count": null,
   "metadata": {
    "collapsed": true
   },
   "outputs": [],
   "source": []
  }
 ],
 "metadata": {
  "kernelspec": {
   "display_name": "Python 2",
   "language": "python",
   "name": "python2"
  },
  "language_info": {
   "codemirror_mode": {
    "name": "ipython",
    "version": 2
   },
   "file_extension": ".py",
   "mimetype": "text/x-python",
   "name": "python",
   "nbconvert_exporter": "python",
   "pygments_lexer": "ipython2",
   "version": "2.7.11"
  }
 },
 "nbformat": 4,
 "nbformat_minor": 0
}
