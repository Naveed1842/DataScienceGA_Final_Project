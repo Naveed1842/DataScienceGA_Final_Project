{
 "cells": [
  {
   "cell_type": "markdown",
   "metadata": {},
   "source": [
    "1. What's the project about? What problem are you solving?\n",
    "Answer : The project is about predicting high value rides based on pickup location, day of the week and time. Using this prediction model, the taxi drivers can be better located at places where there is a good probability of getting a high value ride and a high demand for rides."
   ]
  },
  {
   "cell_type": "markdown",
   "metadata": {
    "collapsed": false
   },
   "source": [
    "2. Where does this seem to reside as a machine learning problem? Are you predicting some continuous number, or predicting a binary value?\n",
    "Answer: Since the project is to predict a continuous variable, linear regression analysis will be used. A classification model can be used to further analyze whether the pickup location generates high value rides or not."
   ]
  },
  {
   "cell_type": "markdown",
   "metadata": {
    "collapsed": false
   },
   "source": [
    "3. What kind of impact do you think it could have?\n",
    "Answer: Taxi drivers may have high earnings for the day"
   ]
  },
  {
   "cell_type": "markdown",
   "metadata": {
    "collapsed": true
   },
   "source": [
    "4. Description of data set available, at the field level (see table)\n",
    "Answer: http://www.nyc.gov/html/tlc/downloads/pdf/data_dictionary_trip_records_yellow.pdf\n",
    "VendorID                   int64\n",
    "tpep_pickup_datetime      object\n",
    "tpep_dropoff_datetime     object\n",
    "passenger_count            int64\n",
    "trip_distance            float64\n",
    "pickup_longitude         float64\n",
    "pickup_latitude          float64\n",
    "RateCodeID                 int64\n",
    "store_and_fwd_flag        object\n",
    "dropoff_longitude        float64\n",
    "dropoff_latitude         float64\n",
    "payment_type               int64\n",
    "fare_amount              float64\n",
    "extra                    float64\n",
    "mta_tax                  float64\n",
    "tip_amount               float64\n",
    "tolls_amount             float64\n",
    "improvement_surcharge    float64\n",
    "total_amount             float64"
   ]
  },
  {
   "cell_type": "markdown",
   "metadata": {
    "collapsed": true
   },
   "source": [
    "5. What experience do you already have around this area?\n",
    "Answer: I do not have any practical experience in this area."
   ]
  },
  {
   "cell_type": "markdown",
   "metadata": {},
   "source": [
    "6. What other research efforts exist?\n",
    "Answer: I was not able to find any projects that predicted the high value rides. But there are some Kaggle competitions to predict the destination of taxi trips based on initial partial trajectories and taxi trip time based on the start point. The Uber Heat maps is based on a similar idea, but it predicts the high demand for rides in a particular location at a particular time.\n",
    "\n",
    "https://www.kaggle.com/c/pkdd-15-predict-taxi-service-trajectory-i\n",
    "http://blog.kaggle.com/2015/07/27/taxi-trajectory-winners-interview-1st-place-team-🚕/\n",
    "http://blog.kaggle.com/2015/07/24/taxi-trip-time-winners-interview-3rd-place-bluetaxi/"
   ]
  },
  {
   "cell_type": "markdown",
   "metadata": {},
   "source": [
    "7. What questions do you have about your project? What are you not sure you quite yet understand? (The more honest you are about this, the easier your instructors can help).\n",
    "Answer: I am quite sure about the models that can be used for the analysis. I need help on the steps involved in each model and to do rigorous analysis."
   ]
  },
  {
   "cell_type": "markdown",
   "metadata": {},
   "source": [
    "8. What are the assumptions and caveats to the problem?\n",
    "Answer: I have access to all the datasets needed for the analysis."
   ]
  },
  {
   "cell_type": "markdown",
   "metadata": {},
   "source": [
    "9. What do you expect the output to look like?\n",
    "Answer: The output should be a location map of NYC with the ride values from the pick up point."
   ]
  },
  {
   "cell_type": "markdown",
   "metadata": {},
   "source": [
    "10. How complicated does your model have to be?\n",
    "Answer: It should be simple enough to learn more from the data and easy enough to explain to the audience."
   ]
  },
  {
   "cell_type": "markdown",
   "metadata": {},
   "source": [
    "11. How successful does your project have to be in order to be considered a \"success\"?\n",
    "Answer: I would say 95% accuracy rate would be considered as a successful model."
   ]
  },
  {
   "cell_type": "markdown",
   "metadata": {},
   "source": [
    "12. What will you do if the project is a bust (this happens! but it shouldn't here)?\n",
    "Answer: It won’t be when I have knowledgeable, experienced and amazing people to help me out in every step of the analysis.\n",
    "But if it still happens, then it would be a great learning experience."
   ]
  }
 ],
 "metadata": {
  "kernelspec": {
   "display_name": "Python 2",
   "language": "python",
   "name": "python2"
  },
  "language_info": {
   "codemirror_mode": {
    "name": "ipython",
    "version": 2
   },
   "file_extension": ".py",
   "mimetype": "text/x-python",
   "name": "python",
   "nbconvert_exporter": "python",
   "pygments_lexer": "ipython2",
   "version": "2.7.11"
  }
 },
 "nbformat": 4,
 "nbformat_minor": 0
}
